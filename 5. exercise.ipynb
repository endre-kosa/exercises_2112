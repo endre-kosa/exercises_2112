{
 "cells": [
  {
   "cell_type": "code",
   "execution_count": 1,
   "id": "e3cb2bac",
   "metadata": {},
   "outputs": [
    {
     "data": {
      "text/plain": [
       "array([[1., 1., 1., 1., 0., 0., 0., 0., 0., 0., 0., 0.],\n",
       "       [1., 1., 1., 1., 0., 0., 0., 0., 0., 0., 0., 0.],\n",
       "       [1., 1., 1., 1., 0., 0., 0., 0., 0., 0., 0., 0.],\n",
       "       [1., 1., 1., 1., 0., 0., 0., 0., 0., 0., 0., 0.],\n",
       "       [0., 0., 0., 0., 1., 1., 1., 1., 0., 0., 0., 0.],\n",
       "       [0., 0., 0., 0., 1., 1., 1., 1., 0., 0., 0., 0.],\n",
       "       [0., 0., 0., 0., 1., 1., 1., 1., 0., 0., 0., 0.],\n",
       "       [0., 0., 0., 0., 1., 1., 1., 1., 0., 0., 0., 0.],\n",
       "       [0., 0., 0., 0., 0., 0., 0., 0., 1., 1., 1., 1.],\n",
       "       [0., 0., 0., 0., 0., 0., 0., 0., 1., 1., 1., 1.],\n",
       "       [0., 0., 0., 0., 0., 0., 0., 0., 1., 1., 1., 1.],\n",
       "       [0., 0., 0., 0., 0., 0., 0., 0., 1., 1., 1., 1.]])"
      ]
     },
     "execution_count": 1,
     "metadata": {},
     "output_type": "execute_result"
    }
   ],
   "source": [
    "import numpy as np\n",
    "\n",
    "def create_block_matrix(num_smatrix, size_smatrix):\n",
    "    # create any number of square matrices filled with ones\n",
    "    smatrix = np.ones((num_smatrix, size_smatrix, size_smatrix))\n",
    "    # create a block-matrix filled with zeros\n",
    "    bmatrix = np.zeros((num_smatrix * size_smatrix, num_smatrix * size_smatrix))   \n",
    "    \n",
    "    # fill block-matrix diagonal with square matrices\n",
    "    pos1, pos2 = 0, size_smatrix\n",
    "    for n_matrix in range(num_smatrix):\n",
    "        bmatrix[pos1:pos2, pos1:pos2] += smatrix[n_matrix]\n",
    "        \n",
    "        # calculate the position of the next square matrix\n",
    "        pos1 += size_smatrix\n",
    "        pos2 += size_smatrix\n",
    "        \n",
    "    return bmatrix\n",
    "\n",
    "# result\n",
    "create_block_matrix(3, 4)"
   ]
  },
  {
   "cell_type": "code",
   "execution_count": null,
   "id": "b3026fcc",
   "metadata": {},
   "outputs": [],
   "source": []
  }
 ],
 "metadata": {
  "kernelspec": {
   "display_name": "Python 3",
   "language": "python",
   "name": "python3"
  },
  "language_info": {
   "codemirror_mode": {
    "name": "ipython",
    "version": 3
   },
   "file_extension": ".py",
   "mimetype": "text/x-python",
   "name": "python",
   "nbconvert_exporter": "python",
   "pygments_lexer": "ipython3",
   "version": "3.8.8"
  }
 },
 "nbformat": 4,
 "nbformat_minor": 5
}
