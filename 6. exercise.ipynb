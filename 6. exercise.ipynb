{
 "cells": [
  {
   "cell_type": "code",
   "execution_count": 1,
   "id": "9890e7bb",
   "metadata": {},
   "outputs": [
    {
     "name": "stdout",
     "output_type": "stream",
     "text": [
      "You can eat 15 chocolates with the given amount of money.\n"
     ]
    }
   ],
   "source": [
    "# number of chocolates: using only the wrappers\n",
    "def countExtraChocolate(chocolate, wrap):\n",
    "    if chocolate < wrap:\n",
    "        return 0\n",
    "    else:\n",
    "        extraChocolate = chocolate // wrap\n",
    "        remainderWrap = chocolate % wrap\n",
    "        return extraChocolate + countExtraChocolate(extraChocolate + remainderWrap, wrap)\n",
    "\n",
    "# maximum number of chocolates: using the money and wrappers\n",
    "def countChocolate(money, price, wrap):\n",
    "    chocolate = money // price\n",
    "    return chocolate + countExtraChocolate(chocolate, wrap)\n",
    "\n",
    "\n",
    "# inputs\n",
    "money = 16\n",
    "price = 2\n",
    "wrap = 2\n",
    "\n",
    "# result\n",
    "output = countChocolate(money, price, wrap)\n",
    "print(f'You can eat {output} chocolates with the given amount of money.')"
   ]
  },
  {
   "cell_type": "code",
   "execution_count": null,
   "id": "f9eecfd7",
   "metadata": {},
   "outputs": [],
   "source": []
  }
 ],
 "metadata": {
  "kernelspec": {
   "display_name": "Python 3",
   "language": "python",
   "name": "python3"
  },
  "language_info": {
   "codemirror_mode": {
    "name": "ipython",
    "version": 3
   },
   "file_extension": ".py",
   "mimetype": "text/x-python",
   "name": "python",
   "nbconvert_exporter": "python",
   "pygments_lexer": "ipython3",
   "version": "3.8.8"
  }
 },
 "nbformat": 4,
 "nbformat_minor": 5
}
