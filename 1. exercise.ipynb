{
 "cells": [
  {
   "cell_type": "code",
   "execution_count": 1,
   "id": "4d370567",
   "metadata": {},
   "outputs": [
    {
     "name": "stdout",
     "output_type": "stream",
     "text": [
      "The surface area of the 3D structure is equal to 14 units.\n"
     ]
    }
   ],
   "source": [
    "# default input values for the function\n",
    "length, breadth, height = 1, 1, 1\n",
    "\n",
    "# surface area of a separate tower\n",
    "def find_surface_area(length=length, breadth=breadth, height=height):\n",
    "    surface_area = 2 * (length * breadth + length * height + breadth * height)\n",
    "    return surface_area\n",
    "\n",
    "# surface area of contiguous towers (3D structure)\n",
    "def structure_surface_area(list):\n",
    "    surface_area = 0\n",
    "    len_list = len(list)\n",
    "    \n",
    "    # calculate each tower's surface area separately\n",
    "    for num in range(len_list):\n",
    "        # each tower has a unique height\n",
    "        height_current = list[num]\n",
    "        surface_area += find_surface_area(height=height_current)\n",
    "        \n",
    "        # the connected surface area must be deducted\n",
    "        if num < len_list-1:\n",
    "            height_next = list[num + 1]\n",
    "            deductible_area = min(breadth * height_current, breadth * height_next) * 2\n",
    "            surface_area -= deductible_area\n",
    "            \n",
    "    return surface_area\n",
    "\n",
    "# random input values\n",
    "list = [2, 1]\n",
    "\n",
    "# result\n",
    "result = structure_surface_area(list)\n",
    "print(f'The surface area of the 3D structure is equal to {result} units.')"
   ]
  },
  {
   "cell_type": "code",
   "execution_count": null,
   "id": "e362fccc",
   "metadata": {},
   "outputs": [],
   "source": []
  }
 ],
 "metadata": {
  "kernelspec": {
   "display_name": "Python 3",
   "language": "python",
   "name": "python3"
  },
  "language_info": {
   "codemirror_mode": {
    "name": "ipython",
    "version": 3
   },
   "file_extension": ".py",
   "mimetype": "text/x-python",
   "name": "python",
   "nbconvert_exporter": "python",
   "pygments_lexer": "ipython3",
   "version": "3.8.8"
  }
 },
 "nbformat": 4,
 "nbformat_minor": 5
}
