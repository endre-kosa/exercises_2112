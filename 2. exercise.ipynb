{
 "cells": [
  {
   "cell_type": "code",
   "execution_count": 1,
   "id": "c16b485f",
   "metadata": {},
   "outputs": [
    {
     "name": "stdout",
     "output_type": "stream",
     "text": [
      "The Queen can attack 24 squares.\n"
     ]
    }
   ],
   "source": [
    "def queen_attack(n, r_q, c_q, obstacles):\n",
    "    # possible attack number\n",
    "    attack_num = 0\n",
    "    \n",
    "    # queen's possible attack directions\n",
    "    steps = [(1,1), (1,0), (0,1), (-1,-1), (-1,0), (0,-1), (-1,1), (1,-1)]\n",
    "    \n",
    "    for step in steps:\n",
    "        # horizontal and vertical steps\n",
    "        h, v = c_q, r_q\n",
    "        h += step[0]\n",
    "        v += step[1]\n",
    "        \n",
    "        # the queen can't leave chees board\n",
    "        while(h <= n and v <= n and h > 0 and v > 0):\n",
    "            \n",
    "            # skip the obstacle locations\n",
    "            if (h, v) in obstacles:\n",
    "                break\n",
    "\n",
    "            # effective attack number calculator\n",
    "            else:\n",
    "                attack_num += 1\n",
    "                h += step[0]\n",
    "                v += step[1]\n",
    "    \n",
    "    return attack_num\n",
    "\n",
    "# result\n",
    "attack = queen_attack(n=8, r_q=4, c_q=4, obstacles=[(3, 5)])\n",
    "print(f'The Queen can attack {attack} squares.')"
   ]
  },
  {
   "cell_type": "code",
   "execution_count": null,
   "id": "34a8f393",
   "metadata": {},
   "outputs": [],
   "source": []
  }
 ],
 "metadata": {
  "kernelspec": {
   "display_name": "Python 3",
   "language": "python",
   "name": "python3"
  },
  "language_info": {
   "codemirror_mode": {
    "name": "ipython",
    "version": 3
   },
   "file_extension": ".py",
   "mimetype": "text/x-python",
   "name": "python",
   "nbconvert_exporter": "python",
   "pygments_lexer": "ipython3",
   "version": "3.8.8"
  }
 },
 "nbformat": 4,
 "nbformat_minor": 5
}
